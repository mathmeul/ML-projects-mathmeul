{
  "nbformat": 4,
  "nbformat_minor": 0,
  "metadata": {
    "colab": {
      "provenance": []
    },
    "kernelspec": {
      "name": "python3",
      "display_name": "Python 3"
    },
    "language_info": {
      "name": "python"
    }
  },
  "cells": [
    {
      "cell_type": "code",
      "execution_count": null,
      "metadata": {
        "id": "0WstiWfJVR4P",
        "colab": {
          "base_uri": "https://localhost:8080/"
        },
        "outputId": "ec070cc4-4928-4ce2-d565-c32e790d90e3"
      },
      "outputs": [
        {
          "output_type": "stream",
          "name": "stdout",
          "text": [
            "   SepalLength  SepalWidth  PetalLength  PetalWidth  Species\n",
            "0          6.4         2.8          5.6         2.2        2\n",
            "1          5.0         2.3          3.3         1.0        1\n",
            "2          4.9         2.5          4.5         1.7        2\n",
            "3          4.9         3.1          1.5         0.1        0\n",
            "4          5.7         3.8          1.7         0.3        0\n"
          ]
        }
      ],
      "source": [
        "import tensorflow as tf\n",
        "import pandas as pd\n",
        "from tensorflow import keras\n",
        "from tensorflow.keras import layers\n",
        "from sklearn.preprocessing import StandardScaler\n",
        "CSV_COLUMN_NAMES = ['SepalLength', 'SepalWidth', 'PetalLength', 'PetalWidth','Species']\n",
        "SPECIES = ['Setosa', 'Versicolor', 'Virginica']\n",
        "train = pd.read_csv('https://storage.googleapis.com/download.tensorflow.org/data/iris_training.csv',names=CSV_COLUMN_NAMES, header=0)\n",
        "# Door header=0 te zetten, zegt je eigenlijk: \"gebruik die eerste rij niet als data, maar als header\" want de eerste rij bevat metadata\n",
        "eval = pd.read_csv(\"https://storage.googleapis.com/download.tensorflow.org/data/iris_test.csv\",names=CSV_COLUMN_NAMES, header=0)\n",
        "# Als je zelf geen namen opgeeft, dan geeft Pandas standaard kolomnamen 0,1,2,....\n",
        "#Met names=CSV_COLUMN_NAMES vertel je Pandas welke feature-namen de kolommen hebben (zoals SepalLength, SepalWidth, … en Species).\n",
        "#Zo zijn de kolommen netjes benoemd → handig voor verwerking en leesbaarheid.\n",
        "print(train.head())\n",
        "# Je hebt dus geforceerd dat de juiste kolomnamen worden gebruikt en dat de metadata in de eerste rij links gelaten wordt\n",
        "y_train = train.pop('Species')\n",
        "y_eval = eval.pop('Species')\n"
      ]
    },
    {
      "cell_type": "code",
      "source": [
        "train.shape"
      ],
      "metadata": {
        "colab": {
          "base_uri": "https://localhost:8080/"
        },
        "collapsed": true,
        "id": "UorKiaXaV6h6",
        "outputId": "d885e85c-9789-4364-f465-0bafd9f12cc6"
      },
      "execution_count": null,
      "outputs": [
        {
          "output_type": "execute_result",
          "data": {
            "text/plain": [
              "(120, 4)"
            ]
          },
          "metadata": {},
          "execution_count": 38
        }
      ]
    },
    {
      "cell_type": "code",
      "source": [
        "print(train.head())"
      ],
      "metadata": {
        "colab": {
          "base_uri": "https://localhost:8080/"
        },
        "id": "6X0LmeuxZLtl",
        "outputId": "2727e1d1-117b-4354-9778-4f5e3d088610"
      },
      "execution_count": null,
      "outputs": [
        {
          "output_type": "stream",
          "name": "stdout",
          "text": [
            "   SepalLength  SepalWidth  PetalLength  PetalWidth\n",
            "0          6.4         2.8          5.6         2.2\n",
            "1          5.0         2.3          3.3         1.0\n",
            "2          4.9         2.5          4.5         1.7\n",
            "3          4.9         3.1          1.5         0.1\n",
            "4          5.7         3.8          1.7         0.3\n"
          ]
        }
      ]
    },
    {
      "cell_type": "code",
      "source": [
        "import numpy as np\n",
        "# scalen is belangrijk bij NN omdat anders de grote waarden in de kolommen teveel invloed zullen hebben op de uitkomst, dus scalen we ze\n",
        "scaler = StandardScaler()\n",
        "# de fit berekent de parameters van de schaal, het gemiddelde en de standaardafwijking per kolom in dit geval\n",
        "# we willen de evaldata ook op dezelfde schaal krijgen en daarom gebruiken we alleen maar transform\n",
        "train[CSV_COLUMN_NAMES[:-1]] = scaler.fit_transform(train[CSV_COLUMN_NAMES[:-1]])\n",
        "eval[CSV_COLUMN_NAMES[:-1]] = scaler.transform(eval[CSV_COLUMN_NAMES[:-1]])\n",
        "\n",
        "X_train = train.values.astype(np.float32)\n",
        "X_eval = eval.values.astype(np.float32)"
      ],
      "metadata": {
        "id": "VVqw_3wWZdCx"
      },
      "execution_count": null,
      "outputs": []
    },
    {
      "cell_type": "code",
      "source": [
        "input_dim = 4\n",
        "model = keras.Sequential([\n",
        "    layers.Input(shape=(input_dim,)),\n",
        "    layers.Dense(30, activation='relu'),\n",
        "    layers.Dense(10, activation='relu'),\n",
        "    layers.Dense(3, activation='softmax')\n",
        "])\n"
      ],
      "metadata": {
        "id": "yuGjETrmiB3h"
      },
      "execution_count": null,
      "outputs": []
    },
    {
      "cell_type": "code",
      "source": [
        "model.compile(optimizer='adam',loss='sparse_categorical_crossentropy',metrics=['accuracy'])"
      ],
      "metadata": {
        "id": "Ua8xreJhjc3d"
      },
      "execution_count": null,
      "outputs": []
    },
    {
      "cell_type": "code",
      "source": [
        "history = model.fit(\n",
        "    X_train, y_train,\n",
        "    validation_data=(X_eval, y_eval),\n",
        "    epochs=30,\n",
        "    batch_size=12,\n",
        "    verbose=0)\n",
        "# fitting the model explains how you want your model to be trained"
      ],
      "metadata": {
        "collapsed": true,
        "id": "xB-39hOHjkaM"
      },
      "execution_count": null,
      "outputs": []
    },
    {
      "cell_type": "code",
      "source": [
        "loss, acc = model.evaluate(X_eval, y_eval)\n",
        "print(f\"Loss: {loss:.4f}, Accuracy: {acc:.4f}\")\n",
        "\n",
        "# de accurracy berekent gewoon het aantal correcte voorspelling tov de opgegeven gelabelede data\n",
        "# De loss daarentegen geef weer hoe onzeker het model is over zijn voorspellingen"
      ],
      "metadata": {
        "colab": {
          "base_uri": "https://localhost:8080/"
        },
        "id": "Ez6jdfKMksnB",
        "outputId": "bbc3744a-4ee2-4bbb-ab1c-621ea4ff9560"
      },
      "execution_count": null,
      "outputs": [
        {
          "output_type": "stream",
          "name": "stdout",
          "text": [
            "\u001b[1m1/1\u001b[0m \u001b[32m━━━━━━━━━━━━━━━━━━━━\u001b[0m\u001b[37m\u001b[0m \u001b[1m0s\u001b[0m 45ms/step - accuracy: 0.9667 - loss: 0.2547\n",
            "Loss: 0.2547, Accuracy: 0.9667\n"
          ]
        }
      ]
    },
    {
      "cell_type": "code",
      "source": [],
      "metadata": {
        "id": "IfglUni3oH8Y"
      },
      "execution_count": null,
      "outputs": []
    }
  ]
}